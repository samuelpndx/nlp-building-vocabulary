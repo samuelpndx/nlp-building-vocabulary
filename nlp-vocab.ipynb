{
 "cells": [
  {
   "cell_type": "code",
   "execution_count": 1,
   "id": "6712522f",
   "metadata": {
    "_cell_guid": "b1076dfc-b9ad-4769-8c92-a6c4dae69d19",
    "_uuid": "8f2839f25d086af736a60e9eeb907d3b93b6e0e5",
    "execution": {
     "iopub.execute_input": "2025-02-26T20:12:58.310214Z",
     "iopub.status.busy": "2025-02-26T20:12:58.309843Z",
     "iopub.status.idle": "2025-02-26T20:13:14.025996Z",
     "shell.execute_reply": "2025-02-26T20:13:14.024886Z"
    },
    "papermill": {
     "duration": 15.722721,
     "end_time": "2025-02-26T20:13:14.028401",
     "exception": false,
     "start_time": "2025-02-26T20:12:58.305680",
     "status": "completed"
    },
    "tags": []
   },
   "outputs": [],
   "source": [
    "import tensorflow as tf"
   ]
  },
  {
   "cell_type": "code",
   "execution_count": 2,
   "id": "004b9200",
   "metadata": {
    "execution": {
     "iopub.execute_input": "2025-02-26T20:13:14.038781Z",
     "iopub.status.busy": "2025-02-26T20:13:14.038087Z",
     "iopub.status.idle": "2025-02-26T20:13:14.042789Z",
     "shell.execute_reply": "2025-02-26T20:13:14.041491Z"
    },
    "papermill": {
     "duration": 0.011917,
     "end_time": "2025-02-26T20:13:14.044944",
     "exception": false,
     "start_time": "2025-02-26T20:13:14.033027",
     "status": "completed"
    },
    "tags": []
   },
   "outputs": [],
   "source": [
    "sentences = [\n",
    "    'i love my dog',\n",
    "    'i love my cat'\n",
    "]"
   ]
  },
  {
   "cell_type": "code",
   "execution_count": 3,
   "id": "1c80e6ca",
   "metadata": {
    "execution": {
     "iopub.execute_input": "2025-02-26T20:13:14.054239Z",
     "iopub.status.busy": "2025-02-26T20:13:14.053905Z",
     "iopub.status.idle": "2025-02-26T20:13:14.175352Z",
     "shell.execute_reply": "2025-02-26T20:13:14.174585Z"
    },
    "papermill": {
     "duration": 0.128515,
     "end_time": "2025-02-26T20:13:14.177674",
     "exception": false,
     "start_time": "2025-02-26T20:13:14.049159",
     "status": "completed"
    },
    "tags": []
   },
   "outputs": [],
   "source": [
    "vectorize_layer = tf.keras.layers.TextVectorization()"
   ]
  },
  {
   "cell_type": "code",
   "execution_count": 4,
   "id": "01477043",
   "metadata": {
    "execution": {
     "iopub.execute_input": "2025-02-26T20:13:14.187177Z",
     "iopub.status.busy": "2025-02-26T20:13:14.186814Z",
     "iopub.status.idle": "2025-02-26T20:13:14.288016Z",
     "shell.execute_reply": "2025-02-26T20:13:14.285804Z"
    },
    "papermill": {
     "duration": 0.108817,
     "end_time": "2025-02-26T20:13:14.290702",
     "exception": false,
     "start_time": "2025-02-26T20:13:14.181885",
     "status": "completed"
    },
    "tags": []
   },
   "outputs": [],
   "source": [
    "vectorize_layer.adapt(sentences)"
   ]
  },
  {
   "cell_type": "code",
   "execution_count": 5,
   "id": "a3270456",
   "metadata": {
    "execution": {
     "iopub.execute_input": "2025-02-26T20:13:14.300464Z",
     "iopub.status.busy": "2025-02-26T20:13:14.300091Z",
     "iopub.status.idle": "2025-02-26T20:13:14.306570Z",
     "shell.execute_reply": "2025-02-26T20:13:14.305446Z"
    },
    "papermill": {
     "duration": 0.013855,
     "end_time": "2025-02-26T20:13:14.308934",
     "exception": false,
     "start_time": "2025-02-26T20:13:14.295079",
     "status": "completed"
    },
    "tags": []
   },
   "outputs": [],
   "source": [
    "vocabulary = vectorize_layer.get_vocabulary(include_special_tokens=False)"
   ]
  },
  {
   "cell_type": "code",
   "execution_count": 6,
   "id": "6b7fdcf0",
   "metadata": {
    "execution": {
     "iopub.execute_input": "2025-02-26T20:13:14.318322Z",
     "iopub.status.busy": "2025-02-26T20:13:14.317983Z",
     "iopub.status.idle": "2025-02-26T20:13:14.324284Z",
     "shell.execute_reply": "2025-02-26T20:13:14.322921Z"
    },
    "papermill": {
     "duration": 0.013014,
     "end_time": "2025-02-26T20:13:14.326100",
     "exception": false,
     "start_time": "2025-02-26T20:13:14.313086",
     "status": "completed"
    },
    "tags": []
   },
   "outputs": [
    {
     "name": "stdout",
     "output_type": "stream",
     "text": [
      "0 my\n",
      "1 love\n",
      "2 i\n",
      "3 dog\n",
      "4 cat\n"
     ]
    }
   ],
   "source": [
    "for index, word in enumerate(vocabulary):\n",
    "    print(index,word)"
   ]
  },
  {
   "cell_type": "code",
   "execution_count": 7,
   "id": "1e548a6e",
   "metadata": {
    "execution": {
     "iopub.execute_input": "2025-02-26T20:13:14.332969Z",
     "iopub.status.busy": "2025-02-26T20:13:14.332521Z",
     "iopub.status.idle": "2025-02-26T20:13:14.354595Z",
     "shell.execute_reply": "2025-02-26T20:13:14.353273Z"
    },
    "papermill": {
     "duration": 0.027539,
     "end_time": "2025-02-26T20:13:14.356433",
     "exception": false,
     "start_time": "2025-02-26T20:13:14.328894",
     "status": "completed"
    },
    "tags": []
   },
   "outputs": [
    {
     "name": "stdout",
     "output_type": "stream",
     "text": [
      "0 my\n",
      "1 love\n",
      "2 i\n",
      "3 dog\n",
      "4 you\n",
      "5 cat\n"
     ]
    }
   ],
   "source": [
    "sentences = [\n",
    "    'i love my dog',\n",
    "    'i love my cat',\n",
    "    'You love my dog!'\n",
    "]\n",
    "\n",
    "vectorize_layer = tf.keras.layers.TextVectorization()\n",
    "\n",
    "vectorize_layer.adapt(sentences)\n",
    "\n",
    "vocabulary = vectorize_layer.get_vocabulary(include_special_tokens = False)\n",
    "\n",
    "for index, word in enumerate(vocabulary):\n",
    "    print(index, word)"
   ]
  },
  {
   "cell_type": "code",
   "execution_count": 8,
   "id": "95dfd74e",
   "metadata": {
    "execution": {
     "iopub.execute_input": "2025-02-26T20:13:14.363091Z",
     "iopub.status.busy": "2025-02-26T20:13:14.362747Z",
     "iopub.status.idle": "2025-02-26T20:13:14.376227Z",
     "shell.execute_reply": "2025-02-26T20:13:14.374899Z"
    },
    "papermill": {
     "duration": 0.021024,
     "end_time": "2025-02-26T20:13:14.380300",
     "exception": false,
     "start_time": "2025-02-26T20:13:14.359276",
     "status": "completed"
    },
    "tags": []
   },
   "outputs": [
    {
     "name": "stdout",
     "output_type": "stream",
     "text": [
      "0 \n",
      "1 [UNK]\n",
      "2 my\n",
      "3 love\n",
      "4 i\n",
      "5 dog\n",
      "6 you\n",
      "7 cat\n"
     ]
    }
   ],
   "source": [
    "vocabulary = vectorize_layer.get_vocabulary()\n",
    "\n",
    "for index, word in enumerate(vocabulary):\n",
    "    print(index, word)"
   ]
  }
 ],
 "metadata": {
  "kaggle": {
   "accelerator": "none",
   "dataSources": [],
   "dockerImageVersionId": 30918,
   "isGpuEnabled": false,
   "isInternetEnabled": true,
   "language": "python",
   "sourceType": "notebook"
  },
  "kernelspec": {
   "display_name": "Python 3",
   "language": "python",
   "name": "python3"
  },
  "language_info": {
   "codemirror_mode": {
    "name": "ipython",
    "version": 3
   },
   "file_extension": ".py",
   "mimetype": "text/x-python",
   "name": "python",
   "nbconvert_exporter": "python",
   "pygments_lexer": "ipython3",
   "version": "3.10.12"
  },
  "papermill": {
   "default_parameters": {},
   "duration": 20.196131,
   "end_time": "2025-02-26T20:13:15.806748",
   "environment_variables": {},
   "exception": null,
   "input_path": "__notebook__.ipynb",
   "output_path": "__notebook__.ipynb",
   "parameters": {},
   "start_time": "2025-02-26T20:12:55.610617",
   "version": "2.6.0"
  }
 },
 "nbformat": 4,
 "nbformat_minor": 5
}
